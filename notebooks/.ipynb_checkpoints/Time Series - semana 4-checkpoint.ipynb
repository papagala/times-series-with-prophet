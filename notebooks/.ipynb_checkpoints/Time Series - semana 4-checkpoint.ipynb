{
 "cells": [
  {
   "cell_type": "code",
   "execution_count": null,
   "id": "utility-least",
   "metadata": {},
   "outputs": [],
   "source": [
    "%matplotlib inline"
   ]
  },
  {
   "cell_type": "markdown",
   "id": "strong-component",
   "metadata": {},
   "source": [
    "# Crear función reutilizable para graficar"
   ]
  },
  {
   "cell_type": "code",
   "execution_count": null,
   "id": "proof-modeling",
   "metadata": {},
   "outputs": [],
   "source": [
    "from matplotlib import pyplot\n",
    "from numpy.random import seed\n",
    "from numpy.random import randn\n",
    "import pandas as pd\n",
    "from scipy.stats import anderson, normaltest, shapiro\n",
    "\n",
    "\n"
   ]
  },
  {
   "cell_type": "code",
   "execution_count": null,
   "id": "convenient-boring",
   "metadata": {},
   "outputs": [],
   "source": [
    "data1=pd.read_csv('../data/examples/example_wp_log_peyton_manning.csv')\n",
    "data1"
   ]
  },
  {
   "cell_type": "markdown",
   "id": "nuclear-singapore",
   "metadata": {},
   "source": [
    "# 1 Peyton Manning\n",
    "\n",
    "Serie de tiempo de el número de vistas de la página de Wikipedia de Peyton Manning. Originalmente se utilizó el paquete Wikipediatrend de R. Esto provee un ejemplo muy claro de las características de prophet como múltiple estacionalidad, tasas cambiantes, y la habilidad del modelo para los días especiales (es decir los días de playoff o superbowl)."
   ]
  },
  {
   "cell_type": "markdown",
   "id": "speaking-approach",
   "metadata": {},
   "source": [
    "# 2\n",
    "\n",
    "La serie de tiempo del número de pasajeros aereos es un ejemplo cuando la estacionalidad aditiva no funciona. "
   ]
  },
  {
   "cell_type": "code",
   "execution_count": null,
   "id": "cardiovascular-bracelet",
   "metadata": {},
   "outputs": [],
   "source": [
    "data2=pd.read_csv('../data/examples/example_air_passengers.csv')"
   ]
  },
  {
   "cell_type": "markdown",
   "id": "unable-domain",
   "metadata": {},
   "source": [
    "## Filtro lineal. Promdio móvil\n",
    "\n",
    "Aquí graficaremos la serie de tiempo suavizada (arriba), tomando como ventana en este caso 50% del total del tamaño de la serie. La serie de diferencias la tenemos debajo."
   ]
  },
  {
   "cell_type": "markdown",
   "id": "sharp-three",
   "metadata": {},
   "source": [
    "# 3\n",
    "\n",
    "Ventas mensuales"
   ]
  },
  {
   "cell_type": "code",
   "execution_count": null,
   "id": "colonial-reasoning",
   "metadata": {},
   "outputs": [],
   "source": [
    "data3=pd.read_csv('../data/examples/example_retail_sales.csv')"
   ]
  },
  {
   "cell_type": "markdown",
   "id": "olive-surge",
   "metadata": {},
   "source": [
    "## Suavizando para lograr la normalidad\n",
    "\n",
    "\n",
    "Resulta que en ocasiones las series son casi normales y aplicando un filtro lineal como puede ser el promedio móvil, podemos lograr la normalidad. Decidimos graficar el p-value de la prueba Shapiro contra diversas ventanas que representan el porcentaje de la ventana con respecto al total de los puntos. Resulta que al tomar una ventana de aproximadamente 18% logramos un p-value de 0.12."
   ]
  },
  {
   "cell_type": "markdown",
   "id": "julian-ozone",
   "metadata": {},
   "source": [
    "Utilizando el valor p descubierto, podemos volver a intentar la prueba de normalidad, y vemos que pasa absolutamente todas las pruebas. "
   ]
  },
  {
   "cell_type": "markdown",
   "id": "capable-disco",
   "metadata": {},
   "source": [
    "# 4"
   ]
  },
  {
   "cell_type": "markdown",
   "id": "exclusive-portugal",
   "metadata": {},
   "source": [
    "Vemos aquí el creciemiento de las ventas como función del tiempo"
   ]
  },
  {
   "cell_type": "code",
   "execution_count": null,
   "id": "intensive-model",
   "metadata": {},
   "outputs": [],
   "source": [
    "data4=pd.read_csv('../data/examples/example_wp_log_R.csv')"
   ]
  },
  {
   "cell_type": "markdown",
   "id": "damaged-inquiry",
   "metadata": {},
   "source": [
    "# 5  \n",
    "\n",
    "Aquí tenemos datos con resolución de 5 minutos (temperatura diaria en Yosemite)."
   ]
  },
  {
   "cell_type": "code",
   "execution_count": 1,
   "id": "dying-processing",
   "metadata": {},
   "outputs": [
    {
     "data": {
      "text/html": [
       "<div>\n",
       "<style scoped>\n",
       "    .dataframe tbody tr th:only-of-type {\n",
       "        vertical-align: middle;\n",
       "    }\n",
       "\n",
       "    .dataframe tbody tr th {\n",
       "        vertical-align: top;\n",
       "    }\n",
       "\n",
       "    .dataframe thead th {\n",
       "        text-align: right;\n",
       "    }\n",
       "</style>\n",
       "<table border=\"1\" class=\"dataframe\">\n",
       "  <thead>\n",
       "    <tr style=\"text-align: right;\">\n",
       "      <th></th>\n",
       "      <th>ds</th>\n",
       "      <th>y</th>\n",
       "    </tr>\n",
       "  </thead>\n",
       "  <tbody>\n",
       "    <tr>\n",
       "      <th>0</th>\n",
       "      <td>2017-05-01 00:00:00</td>\n",
       "      <td>27.8</td>\n",
       "    </tr>\n",
       "    <tr>\n",
       "      <th>1</th>\n",
       "      <td>2017-05-01 00:05:00</td>\n",
       "      <td>27.0</td>\n",
       "    </tr>\n",
       "    <tr>\n",
       "      <th>2</th>\n",
       "      <td>2017-05-01 00:10:00</td>\n",
       "      <td>26.8</td>\n",
       "    </tr>\n",
       "    <tr>\n",
       "      <th>3</th>\n",
       "      <td>2017-05-01 00:15:00</td>\n",
       "      <td>26.5</td>\n",
       "    </tr>\n",
       "    <tr>\n",
       "      <th>4</th>\n",
       "      <td>2017-05-01 00:20:00</td>\n",
       "      <td>25.6</td>\n",
       "    </tr>\n",
       "    <tr>\n",
       "      <th>...</th>\n",
       "      <td>...</td>\n",
       "      <td>...</td>\n",
       "    </tr>\n",
       "    <tr>\n",
       "      <th>18716</th>\n",
       "      <td>2017-07-04 23:40:00</td>\n",
       "      <td>42.8</td>\n",
       "    </tr>\n",
       "    <tr>\n",
       "      <th>18717</th>\n",
       "      <td>2017-07-04 23:45:00</td>\n",
       "      <td>43.0</td>\n",
       "    </tr>\n",
       "    <tr>\n",
       "      <th>18718</th>\n",
       "      <td>2017-07-04 23:50:00</td>\n",
       "      <td>42.1</td>\n",
       "    </tr>\n",
       "    <tr>\n",
       "      <th>18719</th>\n",
       "      <td>2017-07-04 23:55:00</td>\n",
       "      <td>42.1</td>\n",
       "    </tr>\n",
       "    <tr>\n",
       "      <th>18720</th>\n",
       "      <td>2017-07-05 00:00:00</td>\n",
       "      <td>41.4</td>\n",
       "    </tr>\n",
       "  </tbody>\n",
       "</table>\n",
       "<p>18721 rows × 2 columns</p>\n",
       "</div>"
      ],
      "text/plain": [
       "                        ds     y\n",
       "0      2017-05-01 00:00:00  27.8\n",
       "1      2017-05-01 00:05:00  27.0\n",
       "2      2017-05-01 00:10:00  26.8\n",
       "3      2017-05-01 00:15:00  26.5\n",
       "4      2017-05-01 00:20:00  25.6\n",
       "...                    ...   ...\n",
       "18716  2017-07-04 23:40:00  42.8\n",
       "18717  2017-07-04 23:45:00  43.0\n",
       "18718  2017-07-04 23:50:00  42.1\n",
       "18719  2017-07-04 23:55:00  42.1\n",
       "18720  2017-07-05 00:00:00  41.4\n",
       "\n",
       "[18721 rows x 2 columns]"
      ]
     },
     "execution_count": 1,
     "metadata": {},
     "output_type": "execute_result"
    }
   ],
   "source": [
    "import pandas as pd\n",
    "data5=pd.read_csv('../data/examples/example_yosemite_temps.csv')\n",
    "data5"
   ]
  },
  {
   "cell_type": "code",
   "execution_count": 6,
   "id": "metallic-lighting",
   "metadata": {},
   "outputs": [],
   "source": [
    "import datetime\n",
    "#convert string to datetimeformat\n",
    "data5['timestamp'] = data5['ds'].apply(lambda x: datetime.datetime.timestamp(datetime.datetime.strptime(x, \"%Y-%m-%d %H:%M:%S\")))\n",
    "data5['timestamp_shifted'] = (data5['timestamp'] - data5['timestamp'][0])/300\n",
    "data5_x=data5.dropna().copy()\n"
   ]
  },
  {
   "cell_type": "code",
   "execution_count": 7,
   "id": "northern-sugar",
   "metadata": {},
   "outputs": [
    {
     "data": {
      "text/html": [
       "<div>\n",
       "<style scoped>\n",
       "    .dataframe tbody tr th:only-of-type {\n",
       "        vertical-align: middle;\n",
       "    }\n",
       "\n",
       "    .dataframe tbody tr th {\n",
       "        vertical-align: top;\n",
       "    }\n",
       "\n",
       "    .dataframe thead th {\n",
       "        text-align: right;\n",
       "    }\n",
       "</style>\n",
       "<table border=\"1\" class=\"dataframe\">\n",
       "  <thead>\n",
       "    <tr style=\"text-align: right;\">\n",
       "      <th></th>\n",
       "      <th>ds</th>\n",
       "      <th>y</th>\n",
       "      <th>timestamp</th>\n",
       "      <th>timestamp_shifted</th>\n",
       "      <th>pred_signal_linreg</th>\n",
       "      <th>residuals</th>\n",
       "    </tr>\n",
       "  </thead>\n",
       "  <tbody>\n",
       "    <tr>\n",
       "      <th>0</th>\n",
       "      <td>2017-05-01 00:00:00</td>\n",
       "      <td>27.8</td>\n",
       "      <td>1.493590e+09</td>\n",
       "      <td>0.0</td>\n",
       "      <td>11.243510</td>\n",
       "      <td>16.556490</td>\n",
       "    </tr>\n",
       "    <tr>\n",
       "      <th>1</th>\n",
       "      <td>2017-05-01 00:05:00</td>\n",
       "      <td>27.0</td>\n",
       "      <td>1.493590e+09</td>\n",
       "      <td>1.0</td>\n",
       "      <td>11.244280</td>\n",
       "      <td>15.755720</td>\n",
       "    </tr>\n",
       "    <tr>\n",
       "      <th>2</th>\n",
       "      <td>2017-05-01 00:10:00</td>\n",
       "      <td>26.8</td>\n",
       "      <td>1.493590e+09</td>\n",
       "      <td>2.0</td>\n",
       "      <td>11.245050</td>\n",
       "      <td>15.554950</td>\n",
       "    </tr>\n",
       "    <tr>\n",
       "      <th>3</th>\n",
       "      <td>2017-05-01 00:15:00</td>\n",
       "      <td>26.5</td>\n",
       "      <td>1.493590e+09</td>\n",
       "      <td>3.0</td>\n",
       "      <td>11.245820</td>\n",
       "      <td>15.254180</td>\n",
       "    </tr>\n",
       "    <tr>\n",
       "      <th>4</th>\n",
       "      <td>2017-05-01 00:20:00</td>\n",
       "      <td>25.6</td>\n",
       "      <td>1.493591e+09</td>\n",
       "      <td>4.0</td>\n",
       "      <td>11.246590</td>\n",
       "      <td>14.353410</td>\n",
       "    </tr>\n",
       "    <tr>\n",
       "      <th>...</th>\n",
       "      <td>...</td>\n",
       "      <td>...</td>\n",
       "      <td>...</td>\n",
       "      <td>...</td>\n",
       "      <td>...</td>\n",
       "      <td>...</td>\n",
       "    </tr>\n",
       "    <tr>\n",
       "      <th>18716</th>\n",
       "      <td>2017-07-04 23:40:00</td>\n",
       "      <td>42.8</td>\n",
       "      <td>1.499204e+09</td>\n",
       "      <td>18716.0</td>\n",
       "      <td>25.654535</td>\n",
       "      <td>17.145465</td>\n",
       "    </tr>\n",
       "    <tr>\n",
       "      <th>18717</th>\n",
       "      <td>2017-07-04 23:45:00</td>\n",
       "      <td>43.0</td>\n",
       "      <td>1.499205e+09</td>\n",
       "      <td>18717.0</td>\n",
       "      <td>25.655305</td>\n",
       "      <td>17.344695</td>\n",
       "    </tr>\n",
       "    <tr>\n",
       "      <th>18718</th>\n",
       "      <td>2017-07-04 23:50:00</td>\n",
       "      <td>42.1</td>\n",
       "      <td>1.499205e+09</td>\n",
       "      <td>18718.0</td>\n",
       "      <td>25.656075</td>\n",
       "      <td>16.443925</td>\n",
       "    </tr>\n",
       "    <tr>\n",
       "      <th>18719</th>\n",
       "      <td>2017-07-04 23:55:00</td>\n",
       "      <td>42.1</td>\n",
       "      <td>1.499205e+09</td>\n",
       "      <td>18719.0</td>\n",
       "      <td>25.656845</td>\n",
       "      <td>16.443155</td>\n",
       "    </tr>\n",
       "    <tr>\n",
       "      <th>18720</th>\n",
       "      <td>2017-07-05 00:00:00</td>\n",
       "      <td>41.4</td>\n",
       "      <td>1.499206e+09</td>\n",
       "      <td>18720.0</td>\n",
       "      <td>25.657614</td>\n",
       "      <td>15.742386</td>\n",
       "    </tr>\n",
       "  </tbody>\n",
       "</table>\n",
       "<p>18709 rows × 6 columns</p>\n",
       "</div>"
      ],
      "text/plain": [
       "                        ds     y     timestamp  timestamp_shifted  \\\n",
       "0      2017-05-01 00:00:00  27.8  1.493590e+09                0.0   \n",
       "1      2017-05-01 00:05:00  27.0  1.493590e+09                1.0   \n",
       "2      2017-05-01 00:10:00  26.8  1.493590e+09                2.0   \n",
       "3      2017-05-01 00:15:00  26.5  1.493590e+09                3.0   \n",
       "4      2017-05-01 00:20:00  25.6  1.493591e+09                4.0   \n",
       "...                    ...   ...           ...                ...   \n",
       "18716  2017-07-04 23:40:00  42.8  1.499204e+09            18716.0   \n",
       "18717  2017-07-04 23:45:00  43.0  1.499205e+09            18717.0   \n",
       "18718  2017-07-04 23:50:00  42.1  1.499205e+09            18718.0   \n",
       "18719  2017-07-04 23:55:00  42.1  1.499205e+09            18719.0   \n",
       "18720  2017-07-05 00:00:00  41.4  1.499206e+09            18720.0   \n",
       "\n",
       "       pred_signal_linreg  residuals  \n",
       "0               11.243510  16.556490  \n",
       "1               11.244280  15.755720  \n",
       "2               11.245050  15.554950  \n",
       "3               11.245820  15.254180  \n",
       "4               11.246590  14.353410  \n",
       "...                   ...        ...  \n",
       "18716           25.654535  17.145465  \n",
       "18717           25.655305  17.344695  \n",
       "18718           25.656075  16.443925  \n",
       "18719           25.656845  16.443155  \n",
       "18720           25.657614  15.742386  \n",
       "\n",
       "[18709 rows x 6 columns]"
      ]
     },
     "execution_count": 7,
     "metadata": {},
     "output_type": "execute_result"
    }
   ],
   "source": [
    "from sklearn.linear_model import LinearRegression\n",
    "import numpy as np\n",
    "# time_sec is the hourly timestamp converted to seconds\n",
    "X = np.array(data5_x['timestamp_shifted']).reshape(-1, 1)\n",
    "# signal is how many calls were made in that hour\n",
    "y = data5_x['y']\n",
    "model = LinearRegression()\n",
    "model.fit(X, y) \n",
    "data5_x.loc[:,\"pred_signal_linreg\"] = model.predict(X)\n",
    "data5_x.loc[:,'residuals'] = (data5_x['y'] - data5_x['pred_signal_linreg'])\n",
    "data5_x\n",
    "\n"
   ]
  },
  {
   "cell_type": "code",
   "execution_count": 27,
   "id": "running-psychiatry",
   "metadata": {},
   "outputs": [
    {
     "name": "stdout",
     "output_type": "stream",
     "text": [
      "Slope: 7.70e-04, Intercept: 11.24\n"
     ]
    }
   ],
   "source": [
    "print('Slope: {:.2e}, Intercept: {:.2f}'.format(model.coef_[0], model.intercept_))"
   ]
  },
  {
   "cell_type": "code",
   "execution_count": 29,
   "id": "abroad-force",
   "metadata": {},
   "outputs": [
    {
     "name": "stdout",
     "output_type": "stream",
     "text": [
      "R-squared: 8.98e-02\n"
     ]
    }
   ],
   "source": [
    "print('R-squared: {:.2e}'.format(model.score(X,y)))\n"
   ]
  },
  {
   "cell_type": "code",
   "execution_count": 31,
   "id": "legitimate-distribution",
   "metadata": {},
   "outputs": [
    {
     "ename": "KeyError",
     "evalue": "'ALIGNED'",
     "output_type": "error",
     "traceback": [
      "\u001b[0;31m---------------------------------------------------------------------------\u001b[0m",
      "\u001b[0;31mKeyError\u001b[0m                                  Traceback (most recent call last)",
      "\u001b[0;32m<ipython-input-31-b17eeee51b03>\u001b[0m in \u001b[0;36m<module>\u001b[0;34m\u001b[0m\n\u001b[1;32m      4\u001b[0m \u001b[0mtime\u001b[0m \u001b[0;34m=\u001b[0m \u001b[0mdata5_x\u001b[0m\u001b[0;34m[\u001b[0m\u001b[0;34m'timestamp_shifted'\u001b[0m\u001b[0;34m]\u001b[0m\u001b[0;34m\u001b[0m\u001b[0;34m\u001b[0m\u001b[0m\n\u001b[1;32m      5\u001b[0m \u001b[0mresiduals\u001b[0m \u001b[0;34m=\u001b[0m\u001b[0mdata5_x\u001b[0m\u001b[0;34m[\u001b[0m\u001b[0;34m'residuals'\u001b[0m\u001b[0;34m]\u001b[0m\u001b[0;34m\u001b[0m\u001b[0;34m\u001b[0m\u001b[0m\n\u001b[0;32m----> 6\u001b[0;31m \u001b[0mfft_output\u001b[0m \u001b[0;34m=\u001b[0m \u001b[0mfft\u001b[0m\u001b[0;34m.\u001b[0m\u001b[0mfft\u001b[0m\u001b[0;34m(\u001b[0m\u001b[0mresiduals\u001b[0m\u001b[0;34m)\u001b[0m\u001b[0;34m\u001b[0m\u001b[0;34m\u001b[0m\u001b[0m\n\u001b[0m\u001b[1;32m      7\u001b[0m \u001b[0mpower\u001b[0m \u001b[0;34m=\u001b[0m \u001b[0mnp\u001b[0m\u001b[0;34m.\u001b[0m\u001b[0mabs\u001b[0m\u001b[0;34m(\u001b[0m\u001b[0mfft_output\u001b[0m\u001b[0;34m)\u001b[0m\u001b[0;34m\u001b[0m\u001b[0;34m\u001b[0m\u001b[0m\n\u001b[1;32m      8\u001b[0m \u001b[0mfreq\u001b[0m \u001b[0;34m=\u001b[0m \u001b[0mfft\u001b[0m\u001b[0;34m.\u001b[0m\u001b[0mfftfreq\u001b[0m\u001b[0;34m(\u001b[0m\u001b[0mlen\u001b[0m\u001b[0;34m(\u001b[0m\u001b[0mresiduals\u001b[0m\u001b[0;34m)\u001b[0m\u001b[0;34m)\u001b[0m\u001b[0;34m\u001b[0m\u001b[0;34m\u001b[0m\u001b[0m\n",
      "\u001b[0;32m~/.cache/pypoetry/virtualenvs/timeseriesmaster-V-piUzwZ-py3.8/lib/python3.8/site-packages/scipy/fft/_backend.py\u001b[0m in \u001b[0;36m__ua_function__\u001b[0;34m(method, args, kwargs)\u001b[0m\n\u001b[1;32m     21\u001b[0m         \u001b[0;32mif\u001b[0m \u001b[0mfn\u001b[0m \u001b[0;32mis\u001b[0m \u001b[0;32mNone\u001b[0m\u001b[0;34m:\u001b[0m\u001b[0;34m\u001b[0m\u001b[0;34m\u001b[0m\u001b[0m\n\u001b[1;32m     22\u001b[0m             \u001b[0;32mreturn\u001b[0m \u001b[0mNotImplemented\u001b[0m\u001b[0;34m\u001b[0m\u001b[0;34m\u001b[0m\u001b[0m\n\u001b[0;32m---> 23\u001b[0;31m         \u001b[0;32mreturn\u001b[0m \u001b[0mfn\u001b[0m\u001b[0;34m(\u001b[0m\u001b[0;34m*\u001b[0m\u001b[0margs\u001b[0m\u001b[0;34m,\u001b[0m \u001b[0;34m**\u001b[0m\u001b[0mkwargs\u001b[0m\u001b[0;34m)\u001b[0m\u001b[0;34m\u001b[0m\u001b[0;34m\u001b[0m\u001b[0m\n\u001b[0m\u001b[1;32m     24\u001b[0m \u001b[0;34m\u001b[0m\u001b[0m\n\u001b[1;32m     25\u001b[0m \u001b[0;34m\u001b[0m\u001b[0m\n",
      "\u001b[0;32m~/.cache/pypoetry/virtualenvs/timeseriesmaster-V-piUzwZ-py3.8/lib/python3.8/site-packages/scipy/fft/_pocketfft/basic.py\u001b[0m in \u001b[0;36mc2c\u001b[0;34m(forward, x, n, axis, norm, overwrite_x, workers, plan)\u001b[0m\n\u001b[1;32m     15\u001b[0m         raise NotImplementedError('Passing a precomputed plan is not yet '\n\u001b[1;32m     16\u001b[0m                                   'supported by scipy.fft functions')\n\u001b[0;32m---> 17\u001b[0;31m     \u001b[0mtmp\u001b[0m \u001b[0;34m=\u001b[0m \u001b[0m_asfarray\u001b[0m\u001b[0;34m(\u001b[0m\u001b[0mx\u001b[0m\u001b[0;34m)\u001b[0m\u001b[0;34m\u001b[0m\u001b[0;34m\u001b[0m\u001b[0m\n\u001b[0m\u001b[1;32m     18\u001b[0m     \u001b[0moverwrite_x\u001b[0m \u001b[0;34m=\u001b[0m \u001b[0moverwrite_x\u001b[0m \u001b[0;32mor\u001b[0m \u001b[0m_datacopied\u001b[0m\u001b[0;34m(\u001b[0m\u001b[0mtmp\u001b[0m\u001b[0;34m,\u001b[0m \u001b[0mx\u001b[0m\u001b[0;34m)\u001b[0m\u001b[0;34m\u001b[0m\u001b[0;34m\u001b[0m\u001b[0m\n\u001b[1;32m     19\u001b[0m     \u001b[0mnorm\u001b[0m \u001b[0;34m=\u001b[0m \u001b[0m_normalization\u001b[0m\u001b[0;34m(\u001b[0m\u001b[0mnorm\u001b[0m\u001b[0;34m,\u001b[0m \u001b[0mforward\u001b[0m\u001b[0;34m)\u001b[0m\u001b[0;34m\u001b[0m\u001b[0;34m\u001b[0m\u001b[0m\n",
      "\u001b[0;32m~/.cache/pypoetry/virtualenvs/timeseriesmaster-V-piUzwZ-py3.8/lib/python3.8/site-packages/scipy/fft/_pocketfft/helper.py\u001b[0m in \u001b[0;36m_asfarray\u001b[0;34m(x)\u001b[0m\n\u001b[1;32m     95\u001b[0m     \u001b[0mdtype\u001b[0m \u001b[0;34m=\u001b[0m \u001b[0mx\u001b[0m\u001b[0;34m.\u001b[0m\u001b[0mdtype\u001b[0m\u001b[0;34m.\u001b[0m\u001b[0mnewbyteorder\u001b[0m\u001b[0;34m(\u001b[0m\u001b[0;34m'='\u001b[0m\u001b[0;34m)\u001b[0m\u001b[0;34m\u001b[0m\u001b[0;34m\u001b[0m\u001b[0m\n\u001b[1;32m     96\u001b[0m     \u001b[0;31m# Always align input\u001b[0m\u001b[0;34m\u001b[0m\u001b[0;34m\u001b[0m\u001b[0;34m\u001b[0m\u001b[0m\n\u001b[0;32m---> 97\u001b[0;31m     \u001b[0mcopy\u001b[0m \u001b[0;34m=\u001b[0m \u001b[0;32mnot\u001b[0m \u001b[0mx\u001b[0m\u001b[0;34m.\u001b[0m\u001b[0mflags\u001b[0m\u001b[0;34m[\u001b[0m\u001b[0;34m'ALIGNED'\u001b[0m\u001b[0;34m]\u001b[0m\u001b[0;34m\u001b[0m\u001b[0;34m\u001b[0m\u001b[0m\n\u001b[0m\u001b[1;32m     98\u001b[0m     \u001b[0;32mreturn\u001b[0m \u001b[0mnp\u001b[0m\u001b[0;34m.\u001b[0m\u001b[0marray\u001b[0m\u001b[0;34m(\u001b[0m\u001b[0mx\u001b[0m\u001b[0;34m,\u001b[0m \u001b[0mdtype\u001b[0m\u001b[0;34m=\u001b[0m\u001b[0mdtype\u001b[0m\u001b[0;34m,\u001b[0m \u001b[0mcopy\u001b[0m\u001b[0;34m=\u001b[0m\u001b[0mcopy\u001b[0m\u001b[0;34m)\u001b[0m\u001b[0;34m\u001b[0m\u001b[0;34m\u001b[0m\u001b[0m\n\u001b[1;32m     99\u001b[0m \u001b[0;34m\u001b[0m\u001b[0m\n",
      "\u001b[0;32m~/.cache/pypoetry/virtualenvs/timeseriesmaster-V-piUzwZ-py3.8/lib/python3.8/site-packages/pandas/core/flags.py\u001b[0m in \u001b[0;36m__getitem__\u001b[0;34m(self, key)\u001b[0m\n\u001b[1;32m     96\u001b[0m     \u001b[0;32mdef\u001b[0m \u001b[0m__getitem__\u001b[0m\u001b[0;34m(\u001b[0m\u001b[0mself\u001b[0m\u001b[0;34m,\u001b[0m \u001b[0mkey\u001b[0m\u001b[0;34m)\u001b[0m\u001b[0;34m:\u001b[0m\u001b[0;34m\u001b[0m\u001b[0;34m\u001b[0m\u001b[0m\n\u001b[1;32m     97\u001b[0m         \u001b[0;32mif\u001b[0m \u001b[0mkey\u001b[0m \u001b[0;32mnot\u001b[0m \u001b[0;32min\u001b[0m \u001b[0mself\u001b[0m\u001b[0;34m.\u001b[0m\u001b[0m_keys\u001b[0m\u001b[0;34m:\u001b[0m\u001b[0;34m\u001b[0m\u001b[0;34m\u001b[0m\u001b[0m\n\u001b[0;32m---> 98\u001b[0;31m             \u001b[0;32mraise\u001b[0m \u001b[0mKeyError\u001b[0m\u001b[0;34m(\u001b[0m\u001b[0mkey\u001b[0m\u001b[0;34m)\u001b[0m\u001b[0;34m\u001b[0m\u001b[0;34m\u001b[0m\u001b[0m\n\u001b[0m\u001b[1;32m     99\u001b[0m \u001b[0;34m\u001b[0m\u001b[0m\n\u001b[1;32m    100\u001b[0m         \u001b[0;32mreturn\u001b[0m \u001b[0mgetattr\u001b[0m\u001b[0;34m(\u001b[0m\u001b[0mself\u001b[0m\u001b[0;34m,\u001b[0m \u001b[0mkey\u001b[0m\u001b[0;34m)\u001b[0m\u001b[0;34m\u001b[0m\u001b[0;34m\u001b[0m\u001b[0m\n",
      "\u001b[0;31mKeyError\u001b[0m: 'ALIGNED'"
     ]
    }
   ],
   "source": [
    "import scipy\n",
    "from scipy import fft as fft\n",
    "\n",
    "time = data5_x['timestamp_shifted']\n",
    "residuals =data5_x['residuals']\n",
    "fft_output = fft.fft(residuals)\n",
    "power = np.abs(fft_output)\n",
    "freq = fft.fftfreq(len(residuals))\n",
    "peaks = scipy.sig.find_peaks(power[freq >=0], prominence=10**4)[0]\n",
    "peak_freq =  freq[peaks]\n",
    "peak_power = power[peaks]\n",
    "plt.plot(peak_freq, peak_power, 'ro')"
   ]
  },
  {
   "cell_type": "code",
   "execution_count": null,
   "id": "solid-backing",
   "metadata": {},
   "outputs": [],
   "source": []
  }
 ],
 "metadata": {
  "kernelspec": {
   "display_name": "Python 3",
   "language": "python",
   "name": "python3"
  },
  "language_info": {
   "codemirror_mode": {
    "name": "ipython",
    "version": 3
   },
   "file_extension": ".py",
   "mimetype": "text/x-python",
   "name": "python",
   "nbconvert_exporter": "python",
   "pygments_lexer": "ipython3",
   "version": "3.8.2"
  }
 },
 "nbformat": 4,
 "nbformat_minor": 5
}
